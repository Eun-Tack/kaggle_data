{
  "nbformat": 4,
  "nbformat_minor": 0,
  "metadata": {
    "colab": {
      "name": "practice_AES.ipynb",
      "private_outputs": true,
      "provenance": [],
      "collapsed_sections": [],
      "authorship_tag": "ABX9TyP15G6Laqkquk8asWLhWGgI",
      "include_colab_link": true
    },
    "kernelspec": {
      "name": "python3",
      "display_name": "Python 3"
    },
    "language_info": {
      "name": "python"
    }
  },
  "cells": [
    {
      "cell_type": "markdown",
      "metadata": {
        "id": "view-in-github",
        "colab_type": "text"
      },
      "source": [
        "<a href=\"https://colab.research.google.com/github/Eun-Tack/Project_Blockchain/blob/main/practice_cryptography_BC.ipynb\" target=\"_parent\"><img src=\"https://colab.research.google.com/assets/colab-badge.svg\" alt=\"Open In Colab\"/></a>"
      ]
    },
    {
      "cell_type": "code",
      "metadata": {
        "id": "g-lFSQFu5hFO"
      },
      "source": [
        "# practice the Advanced Encryption Standard(AES) algoritm"
      ],
      "execution_count": null,
      "outputs": []
    },
    {
      "cell_type": "code",
      "metadata": {
        "id": "G8cZSuJd5_N5"
      },
      "source": [
        "# Encrypt in CBC(Cipher Block Chain) mode"
      ],
      "execution_count": null,
      "outputs": []
    },
    {
      "cell_type": "code",
      "metadata": {
        "id": "FYV5TciH6q1D"
      },
      "source": [
        "pip install pycryptodome # for Crypto"
      ],
      "execution_count": null,
      "outputs": []
    },
    {
      "cell_type": "code",
      "metadata": {
        "id": "Et4eBgSi6Y20"
      },
      "source": [
        "# import step\n",
        "from Crypto.Cipher import AES\n",
        "from Crypto import Random\n",
        "import numpy as np"
      ],
      "execution_count": null,
      "outputs": []
    },
    {
      "cell_type": "code",
      "metadata": {
        "id": "FN1NioOn8J7r"
      },
      "source": [
        "# make the symmetric key. symmetric key is used 128-bit, 192-bit, 256-bit.\n",
        "secretKey128=b'0123456701234567' # before '' or \"\" b is mean bytes object\n",
        "secretKey192=b'012345670123456701234567'\n",
        "secretKey256=b'01234567012345670123456701234567'"
      ],
      "execution_count": null,
      "outputs": []
    },
    {
      "cell_type": "code",
      "metadata": {
        "id": "RBoO7r8Z6b2I"
      },
      "source": [
        "print(secretKey128)"
      ],
      "execution_count": null,
      "outputs": []
    },
    {
      "cell_type": "code",
      "metadata": {
        "id": "tb1KYDz79Lrd"
      },
      "source": [
        "secretkey=secretKey128\n",
        "plainText='This is Plain text. It will be encrypted using AES with CBC mode'\n",
        "print('original text : ')\n",
        "print(plainText)"
      ],
      "execution_count": null,
      "outputs": []
    },
    {
      "cell_type": "code",
      "metadata": {
        "id": "edSPiYPx90vG"
      },
      "source": [
        "# in CBC mode, plain text should be a multiple of 128-bit. so need padding.\n",
        "# input the NULL text using padding. responser don't need to remove separately padding.\n",
        "# padding : fill with o\n",
        "n=len(plainText)\n",
        "if (n%16) != 0:\n",
        "    n=n+16-(n%16)\n",
        "    plainText=plainText.ljust(n,'\\0')"
      ],
      "execution_count": null,
      "outputs": []
    },
    {
      "cell_type": "code",
      "metadata": {
        "id": "BNPFNeQs_H4F"
      },
      "source": [
        "# send the initialization.vector.iv to responser\n",
        "iv=Random.new().read(AES.block_size)\n",
        "ivcopy=np.copy(iv) # send copy to responser"
      ],
      "execution_count": null,
      "outputs": []
    },
    {
      "cell_type": "code",
      "metadata": {
        "id": "KhLRimX-_wLG"
      },
      "source": [
        "# sender convert plainText to secretKet and iv.\n",
        "iv=Random.new().read(AES.block_size)\n",
        "ivcopy=np.copy(iv)\n",
        "aes=AES.new(secretkey,AES.MODE_CBC,iv)\n",
        "cipherText=aes.encrypt(plainText) # error! Object type <class 'str'> cannot be passed to C code\n",
        "print('\\n\\n\\n')\n",
        "print('cryptogram')\n",
        "print(cipherText.hex())"
      ],
      "execution_count": null,
      "outputs": []
    },
    {
      "cell_type": "code",
      "metadata": {
        "id": "EQV7UIZSAvpL"
      },
      "source": [
        ""
      ],
      "execution_count": null,
      "outputs": []
    }
  ]
}